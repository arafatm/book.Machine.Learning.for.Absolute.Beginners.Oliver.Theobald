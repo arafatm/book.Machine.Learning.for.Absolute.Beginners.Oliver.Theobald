{
 "cells": [
  {
   "cell_type": "code",
   "execution_count": 1,
   "metadata": {},
   "outputs": [
    {
     "ename": "ModuleNotFoundError",
     "evalue": "No module named 'pandas'",
     "output_type": "error",
     "traceback": [
      "\u001b[1;31m---------------------------------------------------------------------------\u001b[0m",
      "\u001b[1;31mModuleNotFoundError\u001b[0m                       Traceback (most recent call last)",
      "Cell \u001b[1;32mIn[1], line 1\u001b[0m\n\u001b[1;32m----> 1\u001b[0m \u001b[38;5;28;01mimport\u001b[39;00m \u001b[38;5;21;01mpandas\u001b[39;00m \u001b[38;5;28;01mas\u001b[39;00m \u001b[38;5;21;01mpd\u001b[39;00m \n\u001b[0;32m      2\u001b[0m \u001b[38;5;28;01mfrom\u001b[39;00m \u001b[38;5;21;01msklearn\u001b[39;00m\u001b[38;5;21;01m.\u001b[39;00m\u001b[38;5;21;01mmodel_selection\u001b[39;00m \u001b[38;5;28;01mimport\u001b[39;00m train_test_split \n\u001b[0;32m      3\u001b[0m \u001b[38;5;28;01mfrom\u001b[39;00m \u001b[38;5;21;01msklearn\u001b[39;00m \u001b[38;5;28;01mimport\u001b[39;00m ensemble \n",
      "\u001b[1;31mModuleNotFoundError\u001b[0m: No module named 'pandas'"
     ]
    }
   ],
   "source": [
    "import pandas as pd \n",
    "from sklearn.model_selection import train_test_split \n",
    "from sklearn import ensemble \n",
    "from sklearn.metrics import mean_absolute_error \n",
    "\n",
    "# Read in data from CSV \n",
    "df = pd.read_csv('~/Downloads/Melbourne_housing_FULL.csv') \n",
    "\n",
    "# Delete unneeded columns \n",
    "del df['Address'];\n",
    "del df['Method'];\n",
    "del df['SellerG'];\n",
    "del df['Date'];\n",
    "del df['Postcode'];\n",
    "del df['Lattitude'];\n",
    "del df['Longtitude'];\n",
    "del df['Regionname'];\n",
    "del df['Propertycount'];\n",
    "\n",
    "# Remove rows with missing values \n",
    "df.dropna(axis = 0, how = 'any', subset = None, inplace = True) \n",
    "\n",
    "# Convert non-numeric data using one-hot encoding \n",
    "df = pd.get_dummies(df, columns = ['Suburb', 'CouncilArea', 'Type']) \n",
    "\n",
    "# Assign X and y variables \n",
    "X = df.drop('Price',axis=1) \n",
    "y = df['Price'] \n",
    "\n",
    "# Split data into test/train set (70/30 split) and shuffle \n",
    "X_train, X_test, y_train, y_test = train_test_split(X, y, test_size = 0.3, shuffle = True) \n",
    "\n",
    "# Set up algorithm \n",
    "model = ensemble.GradientBoostingRegressor(n_estimators = 250,\n",
    "\t\t\t\t\t\t\t\t\t\t   learning_rate = 0.1,\n",
    "\t\t\t\t\t\t\t\t\t\t   max_depth = 5,\n",
    "\t\t\t\t\t\t\t\t\t\t   min_samples_split = 10,\n",
    "\t\t\t\t\t\t\t\t\t\t   min_samples_leaf = 6,\n",
    "\t\t\t\t\t\t\t\t\t\t   max_features = 0.6,\n",
    "\t\t\t\t\t\t\t\t\t\t   loss = 'huber' ) \n",
    "\n",
    "# Run model on training data  \n",
    "model.fit(X_train, y_train)\n",
    "\n",
    "# Check model accuracy (up to two decimal places) \n",
    "mae_train = mean_absolute_error(y_train, model.predict(X_train)) \n",
    "print (\"Training Set Mean Absolute Error: %.2f\" % mae_train) \n",
    "mae_test = mean_absolute_error(y_test, model.predict(X_test)) \n",
    "print (\"Test Set Mean Absolute Error: %.2f\" % mae_test)"
   ]
  }
 ],
 "metadata": {
  "kernelspec": {
   "display_name": "Python 3",
   "language": "python",
   "name": "python3"
  },
  "language_info": {
   "codemirror_mode": {
    "name": "ipython",
    "version": 3
   },
   "file_extension": ".py",
   "mimetype": "text/x-python",
   "name": "python",
   "nbconvert_exporter": "python",
   "pygments_lexer": "ipython3",
   "version": "3.11.9"
  }
 },
 "nbformat": 4,
 "nbformat_minor": 2
}
