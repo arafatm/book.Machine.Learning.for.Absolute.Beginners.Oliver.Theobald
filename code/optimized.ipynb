{
 "cells": [
  {
   "cell_type": "markdown",
   "metadata": {},
   "source": [
    "`pip install pandas scikit-learn`"
   ]
  },
  {
   "cell_type": "code",
   "execution_count": 84,
   "metadata": {},
   "outputs": [],
   "source": [
    "# pip install pandas scikit-learn\n",
    "import pandas as pd \n",
    "from sklearn.model_selection import train_test_split \n",
    "from sklearn import ensemble \n",
    "from sklearn.metrics import mean_absolute_error "
   ]
  },
  {
   "cell_type": "code",
   "execution_count": 85,
   "metadata": {},
   "outputs": [
    {
     "name": "stdout",
     "output_type": "stream",
     "text": [
      "       Suburb        Address  Rooms Type      Price Method   SellerG  \\\n",
      "0  Abbotsford  49 Lithgow St      3    h  1490000.0      S    Jellis   \n",
      "1  Abbotsford  59A Turner St      3    h  1220000.0      S  Marshall   \n",
      "2  Abbotsford  119B Yarra St      3    h  1420000.0      S    Nelson   \n",
      "\n",
      "        Date  Postcode             Regionname  Propertycount  Distance  \\\n",
      "0  1/04/2017      3067  Northern Metropolitan           4019       3.0   \n",
      "1  1/04/2017      3067  Northern Metropolitan           4019       3.0   \n",
      "2  1/04/2017      3067  Northern Metropolitan           4019       3.0   \n",
      "\n",
      "          CouncilArea  \n",
      "0  Yarra City Council  \n",
      "1  Yarra City Council  \n",
      "2  Yarra City Council  \n"
     ]
    }
   ],
   "source": [
    "# Read in CSV \n",
    "df = pd.read_csv('melbourne.house.prices.csv') \n",
    "print(df.head(3))"
   ]
  },
  {
   "cell_type": "code",
   "execution_count": 86,
   "metadata": {},
   "outputs": [
    {
     "name": "stdout",
     "output_type": "stream",
     "text": [
      "       Suburb  Rooms Type      Price  Distance         CouncilArea\n",
      "0  Abbotsford      3    h  1490000.0       3.0  Yarra City Council\n",
      "1  Abbotsford      3    h  1220000.0       3.0  Yarra City Council\n",
      "2  Abbotsford      3    h  1420000.0       3.0  Yarra City Council\n",
      "48433\n"
     ]
    }
   ],
   "source": [
    "print(\"Found \", len(df), \"rows prior to scrubbing\")\n",
    "\n",
    "# drop column 'Address'\n",
    "df = df.drop(['Address', 'Method', 'SellerG', 'Date', 'Postcode', 'Regionname', 'Propertycount'], axis=1)\n",
    "\n",
    "# Remove rows with missing values \n",
    "df.dropna(axis = 0, how = 'any', subset = None, inplace = True) \n",
    "\n",
    "# Convert non-numeric data using one-hot encoding \n",
    "df = pd.get_dummies(df, columns = ['Suburb', 'CouncilArea', 'Type']) \n",
    "\n",
    "# print number of rows\n",
    "print(\"Found \", len(df), \"rows after scrubbing\")\n",
    "print(df.head(3))"
   ]
  },
  {
   "cell_type": "code",
   "execution_count": 74,
   "metadata": {},
   "outputs": [
    {
     "name": "stdout",
     "output_type": "stream",
     "text": [
      "Training Set Mean Absolute Error: 175390.86\n",
      "Test Set Mean Absolute Error: 180395.80\n"
     ]
    }
   ],
   "source": [
    "\n",
    "# Assign X and y variables \n",
    "X = df.drop('Price',axis=1) \n",
    "y = df['Price'] \n",
    "\n",
    "# Split data into test/train set (70/30 split) and shuffle \n",
    "X_train, X_test, y_train, y_test = train_test_split(X, y, test_size = 0.3, shuffle = True) \n",
    "\n",
    "# Set up algorithm \n",
    "model = ensemble.GradientBoostingRegressor(n_estimators = 250,\n",
    "\t\t\t\t\t\t\t\t\t\t   learning_rate = 0.1,\n",
    "\t\t\t\t\t\t\t\t\t\t   max_depth = 5,\n",
    "\t\t\t\t\t\t\t\t\t\t   min_samples_split = 10,\n",
    "\t\t\t\t\t\t\t\t\t\t   min_samples_leaf = 6,\n",
    "\t\t\t\t\t\t\t\t\t\t   max_features = 0.6,\n",
    "\t\t\t\t\t\t\t\t\t\t   loss = 'huber' ) \n",
    "\n",
    "# Run model on training data  \n",
    "model.fit(X_train, y_train)\n",
    "\n",
    "# Check model accuracy (up to two decimal places) \n",
    "mae_train = mean_absolute_error(y_train, model.predict(X_train)) \n",
    "print (\"Training Set Mean Absolute Error: %.2f\" % mae_train) \n",
    "mae_test = mean_absolute_error(y_test, model.predict(X_test)) \n",
    "print (\"Test Set Mean Absolute Error: %.2f\" % mae_test)"
   ]
  },
  {
   "cell_type": "code",
   "execution_count": null,
   "metadata": {},
   "outputs": [],
   "source": []
  },
  {
   "cell_type": "code",
   "execution_count": null,
   "metadata": {},
   "outputs": [],
   "source": []
  }
 ],
 "metadata": {
  "kernelspec": {
   "display_name": "Python 3",
   "language": "python",
   "name": "python3"
  },
  "language_info": {
   "codemirror_mode": {
    "name": "ipython",
    "version": 3
   },
   "file_extension": ".py",
   "mimetype": "text/x-python",
   "name": "python",
   "nbconvert_exporter": "python",
   "pygments_lexer": "ipython3",
   "version": "3.11.9"
  }
 },
 "nbformat": 4,
 "nbformat_minor": 2
}
